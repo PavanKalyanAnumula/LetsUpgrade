{
  "nbformat": 4,
  "nbformat_minor": 0,
  "metadata": {
    "colab": {
      "name": "Day3 assignment ",
      "provenance": [],
      "collapsed_sections": [],
      "authorship_tag": "ABX9TyPyXeh7QqiH5MzNVlkyecVU",
      "include_colab_link": true
    },
    "kernelspec": {
      "name": "python3",
      "display_name": "Python 3"
    }
  },
  "cells": [
    {
      "cell_type": "markdown",
      "metadata": {
        "id": "view-in-github",
        "colab_type": "text"
      },
      "source": [
        "<a href=\"https://colab.research.google.com/github/PavanKalyanAnumula/LetsUpgrade/blob/master/Day3_assignment.ipynb\" target=\"_parent\"><img src=\"https://colab.research.google.com/assets/colab-badge.svg\" alt=\"Open In Colab\"/></a>"
      ]
    },
    {
      "cell_type": "code",
      "metadata": {
        "id": "A3y8ygY9IU9f",
        "colab_type": "code",
        "colab": {}
      },
      "source": [
        "for i in range (2,200):\n",
        "    x=0;\n",
        "    for j in range (2,(i//2+1)):\n",
        "        if i%j==0:\n",
        "            x=1;\n",
        "    if x==0:\n",
        "        print (i, \"is prime\");"
      ],
      "execution_count": null,
      "outputs": []
    },
    {
      "cell_type": "code",
      "metadata": {
        "id": "AtkifQ6gZmcp",
        "colab_type": "code",
        "colab": {
          "base_uri": "https://localhost:8080/",
          "height": 53
        },
        "outputId": "7c8f8da2-d5d6-4592-c920-84d2e1f115f2"
      },
      "source": [
        "a= int(input ( \"enter the altitude in feet\"));\n",
        "if a<=1000:\n",
        "    print (\" the plane is safe to land\");\n",
        "elif a>1000 and a<5000:\n",
        "    print (\" bring the plane to 1000 feet\");\n",
        "else:\n",
        "    print (\" go turn around and try again\");"
      ],
      "execution_count": 63,
      "outputs": [
        {
          "output_type": "stream",
          "text": [
            "enter the altitude in feet9000\n",
            " go turn around and try again\n"
          ],
          "name": "stdout"
        }
      ]
    }
  ]
}